{
  "nbformat": 4,
  "nbformat_minor": 0,
  "metadata": {
    "colab": {
      "provenance": []
    },
    "kernelspec": {
      "name": "python3",
      "display_name": "Python 3"
    },
    "language_info": {
      "name": "python"
    }
  },
  "cells": [
    {
      "cell_type": "code",
      "source": [
        "!pip install PyMuPDF"
      ],
      "metadata": {
        "colab": {
          "base_uri": "https://localhost:8080/"
        },
        "id": "qbXf1oEa8AQh",
        "outputId": "14061e3c-226a-4ba4-c6a4-c24090ac0e77"
      },
      "execution_count": null,
      "outputs": [
        {
          "output_type": "stream",
          "name": "stdout",
          "text": [
            "Collecting PyMuPDF\n",
            "  Downloading pymupdf-1.26.1-cp39-abi3-manylinux_2_28_x86_64.whl.metadata (3.4 kB)\n",
            "Downloading pymupdf-1.26.1-cp39-abi3-manylinux_2_28_x86_64.whl (24.1 MB)\n",
            "\u001b[2K   \u001b[90m━━━━━━━━━━━━━━━━━━━━━━━━━━━━━━━━━━━━━━━━\u001b[0m \u001b[32m24.1/24.1 MB\u001b[0m \u001b[31m63.1 MB/s\u001b[0m eta \u001b[36m0:00:00\u001b[0m\n",
            "\u001b[?25hInstalling collected packages: PyMuPDF\n",
            "Successfully installed PyMuPDF-1.26.1\n"
          ]
        }
      ]
    },
    {
      "cell_type": "code",
      "source": [
        "import fitz  # PyMuPDF\n",
        "import re\n",
        "from google.colab import files\n",
        "import os\n",
        "\n",
        "# Caminho do arquivo PDF original\n",
        "input_pdf_path = \"/content/unido.pdf\"\n",
        "\n",
        "# Função para extrair o nome do aluno de uma página\n",
        "def extract_student_name(page_text):\n",
        "    match = re.search(r\"aluno\\(a\\), (.+?) do\\(a\\)\", page_text, re.IGNORECASE)\n",
        "    return match.group(1).strip() if match else f\"Aluno_Desconhecido\"\n",
        "\n",
        "# Função para extrair a turma\n",
        "def extract_turma_info(page_text):\n",
        "    match = re.search(r\"EFII - .+? MANHÃ\", page_text, re.IGNORECASE)\n",
        "    return match.group(0).strip() if match else \"Turma_Desconhecida\"\n",
        "\n",
        "# Abrir o PDF\n",
        "doc = fitz.open(input_pdf_path)\n",
        "\n",
        "# Processar cada página\n",
        "for page_number in range(len(doc)):\n",
        "    page = doc[page_number]\n",
        "    page_text = page.get_text()\n",
        "\n",
        "    # Extrair nome do aluno e turma\n",
        "    student_name = extract_student_name(page_text)\n",
        "    turma_info = extract_turma_info(page_text)\n",
        "    output_filename = f\"{student_name}.pdf\"\n",
        "\n",
        "    # Criar um novo PDF com apenas a página atual\n",
        "    single_page_pdf = fitz.open()\n",
        "    single_page_pdf.insert_pdf(doc, from_page=page_number, to_page=page_number)\n",
        "    single_page_pdf.save(output_filename)\n",
        "    single_page_pdf.close()\n",
        "\n",
        "print(\"Arquivos gerados com sucesso!\")"
      ],
      "metadata": {
        "id": "leIDDNw-tJf7",
        "colab": {
          "base_uri": "https://localhost:8080/"
        },
        "outputId": "8ccd8144-133b-4226-9584-4a97c30196f9"
      },
      "execution_count": null,
      "outputs": [
        {
          "output_type": "stream",
          "name": "stdout",
          "text": [
            "Arquivos gerados com sucesso!\n"
          ]
        }
      ]
    },
    {
      "cell_type": "code",
      "source": [
        "import os\n",
        "import zipfile\n",
        "import shutil\n",
        "\n",
        "# Pasta onde os PDFs estão localizados\n",
        "pdf_dir = \"/content/\"\n",
        "\n",
        "# Pasta onde os arquivos zipados serão salvos\n",
        "zip_dir = \"/content/pdfs_comprimidos\"\n",
        "\n",
        "# Cria a pasta para os arquivos zipados, se ela não existir\n",
        "os.makedirs(zip_dir, exist_ok=True)\n",
        "\n",
        "# Lista para armazenar os caminhos dos arquivos PDF\n",
        "pdf_files = []\n",
        "\n",
        "# Percorre todos os arquivos na pasta especificada\n",
        "for filename in os.listdir(pdf_dir):\n",
        "    if filename.endswith(\".pdf\"):\n",
        "        pdf_files.append(os.path.join(pdf_dir, filename))\n",
        "\n",
        "# Verifica se há arquivos PDF para zipar\n",
        "if pdf_files:\n",
        "    # Nome do arquivo zip\n",
        "    zip_filename = os.path.join(zip_dir, \"pdfs_comprimidos.zip\")\n",
        "\n",
        "    # Cria um arquivo zip\n",
        "    with zipfile.ZipFile(zip_filename, 'w') as zipf:\n",
        "        # Adiciona cada arquivo PDF ao arquivo zip\n",
        "        for pdf_file in pdf_files:\n",
        "            zipf.write(pdf_file, arcname=os.path.basename(pdf_file))\n",
        "    print(f\"Arquivos PDF comprimidos com sucesso em: {zip_filename}\")\n",
        "else:\n",
        "    print(\"Nenhum arquivo PDF encontrado na pasta especificada.\")"
      ],
      "metadata": {
        "id": "605HCaHfxPfn",
        "colab": {
          "base_uri": "https://localhost:8080/"
        },
        "outputId": "544fd891-cf74-4c0d-c29d-42bf238e868e"
      },
      "execution_count": null,
      "outputs": [
        {
          "output_type": "stream",
          "name": "stdout",
          "text": [
            "Arquivos PDF comprimidos com sucesso em: /content/pdfs_comprimidos/pdfs_comprimidos.zip\n"
          ]
        }
      ]
    },
    {
      "cell_type": "code",
      "source": [
        "import os\n",
        "\n",
        "# Pasta onde os PDFs estão localizados\n",
        "pdf_dir = \"/content/\"\n",
        "\n",
        "# Percorre todos os arquivos na pasta especificada\n",
        "for filename in os.listdir(pdf_dir):\n",
        "    if filename.endswith(\".pdf\"):\n",
        "        file_path = os.path.join(pdf_dir, filename)\n",
        "        try:\n",
        "            os.remove(file_path)\n",
        "            print(f\"Arquivo '{filename}' removido com sucesso.\")\n",
        "        except OSError as e:\n",
        "            print(f\"Erro ao remover '{filename}': {e}\")"
      ],
      "metadata": {
        "id": "0Xd1VLYB1yjC"
      },
      "execution_count": 1,
      "outputs": []
    }
  ]
}